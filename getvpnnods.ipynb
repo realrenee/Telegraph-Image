{
  "nbformat": 4,
  "nbformat_minor": 0,
  "metadata": {
    "colab": {
      "provenance": [],
      "authorship_tag": "ABX9TyP+fEcjaGb9SMLZ17lQOvir",
      "include_colab_link": true
    },
    "kernelspec": {
      "name": "python3",
      "display_name": "Python 3"
    },
    "language_info": {
      "name": "python"
    }
  },
  "cells": [
    {
      "cell_type": "markdown",
      "metadata": {
        "id": "view-in-github",
        "colab_type": "text"
      },
      "source": [
        "<a href=\"https://colab.research.google.com/github/realrenee/Telegraph-Image/blob/main/getvpnnods.ipynb\" target=\"_parent\"><img src=\"https://colab.research.google.com/assets/colab-badge.svg\" alt=\"Open In Colab\"/></a>"
      ]
    },
    {
      "cell_type": "code",
      "source": [
        "import requests\n",
        "import base64\n",
        "import json\n",
        "import pyaes\n",
        "import binascii\n",
        "from datetime import datetime\n",
        "\n",
        "print(\"      H͜͡E͜͡L͜͡L͜͡O͜͡ ͜͡W͜͡O͜͡R͜͡L͜͡D͜͡ ͜͡E͜͡X͜͡T͜͡R͜͡A͜͡C͜͡T͜͡ ͜͡S͜͡S͜͡ ͜͡N͜͡O͜͡D͜͡E͜͡\")\n",
        "print(\"𓆝 𓆟 𓆞 𓆟 𓆝 𓆟 𓆞 𓆟 𓆝 𓆟 𓆞 𓆟\")\n",
        "print(\"Author : 𝐼𝑢\")\n",
        "print(f\"Date   : {datetime.today().strftime('%Y-%m-%d')}\")\n",
        "print(\"Version: 1.0\")\n",
        "print(\"𓆝 𓆟 𓆞 𓆟 𓆝 𓆟 𓆞 𓆟 𓆝 𓆟 𓆞 𓆟\")\n",
        "print(\"𝐼𝑢:\")\n",
        "print(r\"\"\"\n",
        "⠀⠀⠀⠀⠀⠀⠀⠀⠀⠀⠀⢀⡠⠤⠀⠀⠀⠀⠀⠀⠀\n",
        "⠀⠀⠀⠀⠀⠀⠀⠀⠀⠀⡴⠁⠀⡰⠀⠀⠀⠀⠀⠀⠀\n",
        "⠀⠀⠀⠀⠀⠀⠀⠀⢀⡎⢀⠀⠀⠁⠀⠀⠀⠀⠀⠀⠀\n",
        "⣀⠀⠀⠀⠀⠀⠀⡠⠬⡡⠬⡋⠀⡄⠀⠀⠀⠀⠀⠀⠀\n",
        "⡀⠁⠢⡀⠀⠀⢰⠠⢷⠰⠆⡅⠀⡇⠀⠀⠀⣀⠔⠂⡂\n",
        "⠱⡀⠀⠈⠒⢄⡸⡑⠊⢒⣂⣦⠄⢃⢀⠔⠈⠀⠀⡰⠁\n",
        "⠀⠱⡀⠀⠀⡰⣁⣼⡿⡿⢿⠃⠠⠚⠁⠀⠀⢀⠜⠀⠀\n",
        "⠀⠀⠐⢄⠜⠀⠈⠓⠒⠈⠁⠀⠀⠀⠀⠀⡰⠃⠀⠀⠀\n",
        "⠀⠀⢀⠊⡀⠀⠀⠀⠀⠀⠀⠀⠀⠀⠀⠾⡀⠀⠀⠀⠀\n",
        "⠀⠀⢸⣄⠀⠀⡀⠀⠀⠀⠀⠀⠀⠀⠀⣀⡇⠀⠀⠀⠀\n",
        "⠀⠀⠸⢸⣳⠦⣍⣁⣀⣀⣀⣀⣠⠴⠚⠁⠇⠀⠀⠀⠀\n",
        "⠀⠀⠀⢳⣿⠄⠸⠢⠍⠉⠉⠀⠀⡠⢒⠎⠀⠀⠀⠀⠀\n",
        "⠀⠀⠀⠣⣀⠁⠒⡤⠤⢤⠀⠀⠐⠙⡇⠀⠀⠀⠀⠀⠀\n",
        "⠀⠀⠀⠀⠣⡀⡼⠀⠀⠈⠱⡒⠂⡸⠁⠀⠀⠀⠀⠀⠀\n",
        "⠀⠀⠀⠀⠀⠀⠀⠀⠀⠀⠀⠑⢒⠁⠀⠀⠀⠀⠀⠀⠀\n",
        "\"\"\")\n",
        "\n",
        "\n",
        "a = 'http://api.skrapp.net/api/serverlist'\n",
        "b = {\n",
        "    'accept': '/',\n",
        "    'accept-language': 'zh-Hans-CN;q=1, en-CN;q=0.9',\n",
        "    'appversion': '1.3.1',\n",
        "    'user-agent': 'SkrKK/1.3.1 (iPhone; iOS 13.5; Scale/2.00)',\n",
        "    'content-type': 'application/x-www-form-urlencoded',\n",
        "    'Cookie': 'PHPSESSID=fnffo1ivhvt0ouo6ebqn86a0d4'\n",
        "}\n",
        "c = {'data': '4265a9c353cd8624fd2bc7b5d75d2f18b1b5e66ccd37e2dfa628bcb8f73db2f14ba98bc6a1d8d0d1c7ff1ef0823b11264d0addaba2bd6a30bdefe06f4ba994ed'}\n",
        "d = b'65151f8d966bf596'\n",
        "e = b'88ca0f0ea1ecf975'\n",
        "\n",
        "def f(g, d, e):\n",
        "    h = pyaes.AESModeOfOperationCBC(d, iv=e)\n",
        "    i = b''.join(h.decrypt(g[j:j+16]) for j in range(0, len(g), 16))\n",
        "    return i[:-i[-1]]\n",
        "\n",
        "j = requests.post(a, headers=b, data=c)\n",
        "\n",
        "if j.status_code == 200:\n",
        "    k = j.text.strip()\n",
        "    l = binascii.unhexlify(k)\n",
        "    m = f(l, d, e)\n",
        "    n = json.loads(m)\n",
        "    for o in n['data']:\n",
        "        p = f\"aes-256-cfb:{o['password']}@{o['ip']}:{o['port']}\"\n",
        "        q = base64.b64encode(p.encode('utf-8')).decode('utf-8')\n",
        "        r = f\"ss://{q}#{o['title']}\"\n",
        "        print(r)"
      ],
      "metadata": {
        "colab": {
          "base_uri": "https://localhost:8080/"
        },
        "id": "yiaNwDpqQHOa",
        "outputId": "01e56336-f3bd-472b-f177-2d37b670f77c"
      },
      "execution_count": 3,
      "outputs": [
        {
          "output_type": "stream",
          "name": "stdout",
          "text": [
            "      H͜͡E͜͡L͜͡L͜͡O͜͡ ͜͡W͜͡O͜͡R͜͡L͜͡D͜͡ ͜͡E͜͡X͜͡T͜͡R͜͡A͜͡C͜͡T͜͡ ͜͡S͜͡S͜͡ ͜͡N͜͡O͜͡D͜͡E͜͡\n",
            "𓆝 𓆟 𓆞 𓆟 𓆝 𓆟 𓆞 𓆟 𓆝 𓆟 𓆞 𓆟\n",
            "Author : 𝐼𝑢\n",
            "Date   : 2024-10-25\n",
            "Version: 1.0\n",
            "𓆝 𓆟 𓆞 𓆟 𓆝 𓆟 𓆞 𓆟 𓆝 𓆟 𓆞 𓆟\n",
            "𝐼𝑢:\n",
            "\n",
            "⠀⠀⠀⠀⠀⠀⠀⠀⠀⠀⠀⢀⡠⠤⠀⠀⠀⠀⠀⠀⠀\n",
            "⠀⠀⠀⠀⠀⠀⠀⠀⠀⠀⡴⠁⠀⡰⠀⠀⠀⠀⠀⠀⠀\n",
            "⠀⠀⠀⠀⠀⠀⠀⠀⢀⡎⢀⠀⠀⠁⠀⠀⠀⠀⠀⠀⠀\n",
            "⣀⠀⠀⠀⠀⠀⠀⡠⠬⡡⠬⡋⠀⡄⠀⠀⠀⠀⠀⠀⠀\n",
            "⡀⠁⠢⡀⠀⠀⢰⠠⢷⠰⠆⡅⠀⡇⠀⠀⠀⣀⠔⠂⡂\n",
            "⠱⡀⠀⠈⠒⢄⡸⡑⠊⢒⣂⣦⠄⢃⢀⠔⠈⠀⠀⡰⠁\n",
            "⠀⠱⡀⠀⠀⡰⣁⣼⡿⡿⢿⠃⠠⠚⠁⠀⠀⢀⠜⠀⠀\n",
            "⠀⠀⠐⢄⠜⠀⠈⠓⠒⠈⠁⠀⠀⠀⠀⠀⡰⠃⠀⠀⠀\n",
            "⠀⠀⢀⠊⡀⠀⠀⠀⠀⠀⠀⠀⠀⠀⠀⠾⡀⠀⠀⠀⠀\n",
            "⠀⠀⢸⣄⠀⠀⡀⠀⠀⠀⠀⠀⠀⠀⠀⣀⡇⠀⠀⠀⠀\n",
            "⠀⠀⠸⢸⣳⠦⣍⣁⣀⣀⣀⣀⣠⠴⠚⠁⠇⠀⠀⠀⠀\n",
            "⠀⠀⠀⢳⣿⠄⠸⠢⠍⠉⠉⠀⠀⡠⢒⠎⠀⠀⠀⠀⠀\n",
            "⠀⠀⠀⠣⣀⠁⠒⡤⠤⢤⠀⠀⠐⠙⡇⠀⠀⠀⠀⠀⠀\n",
            "⠀⠀⠀⠀⠣⡀⡼⠀⠀⠈⠱⡒⠂⡸⠁⠀⠀⠀⠀⠀⠀\n",
            "⠀⠀⠀⠀⠀⠀⠀⠀⠀⠀⠀⠑⢒⠁⠀⠀⠀⠀⠀⠀⠀\n",
            "\n",
            "ss://YWVzLTI1Ni1jZmI6YW1hem9uc2tyMDVANTQuOTUuNS4xNjg6NDQz#JP, Tokyo 2\n",
            "ss://YWVzLTI1Ni1jZmI6YW1hem9uc2tyMDVANTIuMTk4LjE2OC4yMzU6NDQz#SG, Singapore\n",
            "ss://YWVzLTI1Ni1jZmI6YW1hem9uc2tyMDVAMzQuMjEwLjk0LjY3OjQ0Mw==#US, Dallas 2\n",
            "ss://YWVzLTI1Ni1jZmI6YW1hem9uc2tyMDVANDMuMjAxLjI1NC43NDo0NDM=#JP, Osaka\n",
            "ss://YWVzLTI1Ni1jZmI6YW1hem9uc2tyMDVANTQuMTk5LjgzLjE4NDo0NDM=#HK, Kowloon\n",
            "ss://YWVzLTI1Ni1jZmI6YW1hem9uc2tyMDVAMzUuODguMTM2LjE4Nzo0NDM=#HK, Los Angeles\n",
            "ss://YWVzLTI1Ni1jZmI6YW1hem9uc2tyMDVANTQuMjAwLjU0LjExOjQ0Mw==#CA, Vancouver\n",
            "ss://YWVzLTI1Ni1jZmI6YW1hem9uc2tyMDVAMzQuMjE2LjI0MC4yMjU6NDQz#US, Houston\n",
            "ss://YWVzLTI1Ni1jZmI6YW1hem9uc2tyMDVAMy4xMTIuMjE1LjY5OjQ0Mw==#KR, Incheon\n",
            "ss://YWVzLTI1Ni1jZmI6YW1hem9uc2tyMDVAMTMuMjUwLjMuNDM6NDQz#TW, Taipei\n",
            "ss://YWVzLTI1Ni1jZmI6YW1hem9uc2tyMDVANDMuMjAxLjI1NC4yMTE6NDQz#JP, Tokyo\n",
            "ss://YWVzLTI1Ni1jZmI6YW1hem9uc2tyMDVAMTMuMjUwLjI1LjE1OTo0NDM=#HK, New Territories\n"
          ]
        }
      ]
    }
  ]
}